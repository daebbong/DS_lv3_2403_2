{
 "cells": [
  {
   "cell_type": "markdown",
   "id": "765c0422",
   "metadata": {},
   "source": [
    "# 문제 6\n",
    "\n",
    "[Kaggle 형] train_prob.csv로 문제 failure 예측하는 모델을 만들고, \n",
    "\n",
    "test_prob.csv에 대한 failure가 1일 확률 예측하여 다음과 같은 형식의 answer6.csv를 만들어라. \n",
    "\n",
    "측정 지표는 AUC(area under of ROC curve)이다. id 는 테스트 케이스의 id 이고, failure에는 failure가 1이 될 확률이다.\n",
    "\n",
    "id,failure\n",
    "\n",
    "16115, 0.1\n",
    "\n",
    "16116, 0.2\n",
    "\n",
    "\n",
    "**강사: 멀티캠퍼스 강선구(sunku0316.kang@multicampus.com, sun9sun9@gmail.com)**"
   ]
  },
  {
   "cell_type": "code",
   "execution_count": 1,
   "id": "a84a412b",
   "metadata": {},
   "outputs": [
    {
     "name": "stdout",
     "output_type": "stream",
     "text": [
      "3.7.4 (tags/v3.7.4:e09359112e, Jul  8 2019, 20:34:20) [MSC v.1916 64 bit (AMD64)]\n",
      "pandas 0.25.1\n",
      "numpy 1.18.5\n",
      "sklearn 0.21.3\n",
      "scipy 1.5.2\n",
      "mlxtend 0.15.0.0\n",
      "statsmodels 0.11.1\n",
      "xgboost 0.80\n"
     ]
    }
   ],
   "source": [
    "# 실행 환경 확인\n",
    "\n",
    "import pandas as pd\n",
    "import numpy as np\n",
    "import sklearn\n",
    "import scipy\n",
    "import statsmodels\n",
    "import mlxtend\n",
    "import sys\n",
    "import xgboost as xgb\n",
    "\n",
    "print(sys.version)\n",
    "for i in [pd, np, sklearn, scipy, mlxtend, statsmodels, xgb]:\n",
    "    print(i.__name__, i.__version__)"
   ]
  },
  {
   "cell_type": "code",
   "execution_count": 3,
   "id": "18c2e33e",
   "metadata": {},
   "outputs": [],
   "source": [
    "df_train = pd.read_csv('train_prob.csv', index_col=['id'])\n",
    "df_test = pd.read_csv('test_prob.csv', index_col=['id'])\n",
    "df_ans = pd.read_csv('test_prob_ans.csv', index_col='id')"
   ]
  },
  {
   "cell_type": "code",
   "execution_count": 6,
   "id": "62ab13e0",
   "metadata": {},
   "outputs": [],
   "source": [
    "df_train = df_train.assign(\n",
    "    na_1 = lambda x: x['measurement_3'].isna(),\n",
    "    na_2 = lambda x: x['measurement_5'].isna()\n",
    ")\n",
    "df_test = df_test.assign(\n",
    "    na_1 = lambda x: x['measurement_3'].isna(),\n",
    "    na_2 = lambda x: x['measurement_5'].isna()\n",
    ")"
   ]
  },
  {
   "cell_type": "code",
   "execution_count": 7,
   "id": "9143c969",
   "metadata": {},
   "outputs": [
    {
     "data": {
      "text/plain": [
       "C    5765\n",
       "E    5343\n",
       "B    5250\n",
       "A    5100\n",
       "Name: product_code, dtype: int64"
      ]
     },
     "execution_count": 7,
     "metadata": {},
     "output_type": "execute_result"
    }
   ],
   "source": [
    "df_train['product_code'].value_counts()"
   ]
  },
  {
   "cell_type": "code",
   "execution_count": 8,
   "id": "1c634730",
   "metadata": {},
   "outputs": [
    {
     "data": {
      "text/plain": [
       "D    5112\n",
       "Name: product_code, dtype: int64"
      ]
     },
     "execution_count": 8,
     "metadata": {},
     "output_type": "execute_result"
    }
   ],
   "source": [
    "df_test['product_code'].value_counts()"
   ]
  },
  {
   "cell_type": "code",
   "execution_count": 11,
   "id": "d7b4513f",
   "metadata": {},
   "outputs": [],
   "source": [
    "# 방법 2: product_code 별로 IterativeImputer를 통한 결측처리를 하고 바로 적용합니다.\n",
    "from sklearn.experimental import enable_iterative_imputer# 구문을 사용하여 실험 단계인 모듈을 활성화하고, \n",
    "from sklearn.impute import IterativeImputer\n",
    "from sklearn.linear_model import LinearRegression\n",
    "\n",
    "X_imp = ['measurement_{}'.format(i) for i in range(3, 10)] + ['measurement_17']\n",
    "\n",
    "imp = IterativeImputer(\n",
    "    estimator = LinearRegression(),\n",
    "    random_state=123\n",
    ")\n",
    "\n",
    "df_train[X_imp] =  df_train.groupby('product_code')[X_imp].apply(\n",
    "    lambda x: pd.DataFrame(imp.fit_transform(x), index=x.index, columns=x.columns)\n",
    ")\n",
    "\n",
    "df_test[X_imp] =  df_test.groupby('product_code')[X_imp].apply(\n",
    "    lambda x: pd.DataFrame(imp.fit_transform(x), index=x.index, columns=x.columns)\n",
    ")"
   ]
  },
  {
   "cell_type": "code",
   "execution_count": 12,
   "id": "51b4f9dd",
   "metadata": {},
   "outputs": [],
   "source": [
    "# 방법 1: groupby ~ transform\n",
    "# Transform을 통해 수준별 평균으로 1:1 변환된 값으로 구성된 DataFrame을 받아서, \n",
    "# 각각의 요소별로 결측이면 해당값으로 치환되게 구성합니다.\n",
    "X_mean = ['measurement_{}'.format(i) for i in range(10, 17)]\n",
    "df_train[X_mean] = df_train.groupby('product_code')[X_mean]\\\n",
    "        .transform(lambda x: x.fillna(x.mean()))\n",
    "\n",
    "df_test[X_mean] = df_test.groupby('product_code')[X_mean]\\\n",
    "        .transform(lambda x: x.fillna(x.mean()))"
   ]
  },
  {
   "cell_type": "code",
   "execution_count": 13,
   "id": "0f39197a",
   "metadata": {},
   "outputs": [],
   "source": [
    "df_train['loading'] = df_train['loading'].fillna(df_train['loading'].mean())\n",
    "df_test['loading'] = df_test['loading'].fillna(df_test['loading'].mean())"
   ]
  },
  {
   "cell_type": "code",
   "execution_count": 16,
   "id": "281db76a",
   "metadata": {},
   "outputs": [
    {
     "data": {
      "text/plain": [
       "(0, 0)"
      ]
     },
     "execution_count": 16,
     "metadata": {},
     "output_type": "execute_result"
    }
   ],
   "source": [
    "df_train.isna().sum().sum(), df_test.isna().sum().sum()"
   ]
  },
  {
   "cell_type": "markdown",
   "id": "9e5df0b0",
   "metadata": {},
   "source": [
    "# Kaggle형 풀이 단계\n",
    "\n",
    "Step 1: 검증 방법을 정하고, 검증 루틴을 만듭니다.\n",
    "\n",
    "Step 2: Baseline 모델을 만듭니다\n",
    "\n",
    "Step 3: 모델 선택 루틴을 만듭니다.\n",
    "\n",
    "Step 4: 모델 개선 작업을 합니다."
   ]
  },
  {
   "cell_type": "code",
   "execution_count": 40,
   "id": "dde0894b",
   "metadata": {},
   "outputs": [],
   "source": [
    "# 공통 \n",
    "\n",
    "from sklearn.compose import ColumnTransformer\n",
    "from sklearn.pipeline import make_pipeline\n",
    "from sklearn.model_selection import cross_validate, GroupKFold\n",
    "from sklearn.preprocessing import StandardScaler\n",
    "from sklearn.metrics import roc_auc_score\n",
    "\n",
    "X_all = [i for i in df_train.columns if i != 'failure']\n",
    "gcv = GroupKFold(4)\n",
    "def eval_model(model):\n",
    "    return cross_validate(\n",
    "        model, df_train[X_all], df_train['failure'], cv = gcv, groups=df_train['product_code'], \n",
    "        scoring='roc_auc', return_train_score=True\n",
    "    )\n",
    "\n",
    "def choose_model(model):\n",
    "    model.fit(df_train[X_all], df_train['failure'])\n",
    "    prd = model.predict_proba(df_test[X_all])[:, 1]\n",
    "    pd.DataFrame({\n",
    "        'id': df_test.index.values,\n",
    "        'failure': prd\n",
    "    }).to_csv('answer6.csv', index=None)\n",
    "    return prd"
   ]
  },
  {
   "cell_type": "code",
   "execution_count": 25,
   "id": "a0af9769",
   "metadata": {},
   "outputs": [
    {
     "name": "stdout",
     "output_type": "stream",
     "text": [
      "['A' 'B' 'E'] ['C']\n",
      "['A' 'B' 'C'] ['E']\n",
      "['A' 'C' 'E'] ['B']\n",
      "['B' 'C' 'E'] ['A']\n"
     ]
    }
   ],
   "source": [
    "for train_idx, test_idx in gcv.split(df_train[X_all], df_train['failure'], groups=df_train['product_code']):\n",
    "    print(df_train.iloc[train_idx]['product_code'].unique(), df_train.iloc[test_idx]['product_code'].unique())"
   ]
  },
  {
   "cell_type": "code",
   "execution_count": 37,
   "id": "fd2ab869",
   "metadata": {},
   "outputs": [
    {
     "data": {
      "text/plain": [
       "(0.5893698519267131, 0.0037908863862941063, 0.5919059643763757)"
      ]
     },
     "execution_count": 37,
     "metadata": {},
     "output_type": "execute_result"
    }
   ],
   "source": [
    "from sklearn.linear_model import LogisticRegression\n",
    "# Baseline: feature selection\n",
    "ct = ColumnTransformer([\n",
    "    ('std', StandardScaler(), ['loading', 'measurement_1', 'measurement_4', 'measurement_14', 'measurement_17']),\n",
    "    ('pt', 'passthrough', ['na_1'])\n",
    "])\n",
    "clf_lr = make_pipeline(ct, LogisticRegression(solver='lbfgs'))\n",
    "result = eval_model(clf_lr)\n",
    "np.mean(result['test_score']), np.std(result['test_score']), np.mean(result['train_score'])"
   ]
  },
  {
   "cell_type": "code",
   "execution_count": 39,
   "id": "0485d625",
   "metadata": {},
   "outputs": [],
   "source": [
    "prd = choose_model(clf_lr)\n",
    "# 자가채점\n",
    "roc_auc_score(df_ans['failure'], prd)"
   ]
  },
  {
   "cell_type": "code",
   "execution_count": 45,
   "id": "9b962f32",
   "metadata": {},
   "outputs": [
    {
     "data": {
      "text/plain": [
       "(0.5885473997135389, 0.0029461488007361553, 0.5916364788268219)"
      ]
     },
     "execution_count": 45,
     "metadata": {},
     "output_type": "execute_result"
    }
   ],
   "source": [
    "# + feature PCA\n",
    "from sklearn.decomposition import PCA\n",
    "\n",
    "# Baseline: feature selection\n",
    "ct = ColumnTransformer([\n",
    "    ('std', make_pipeline(StandardScaler(), PCA(n_components=7)), ['measurement_{}'.format(i) for i in range(18)]),\n",
    "    ('pt', 'passthrough', ['na_1', 'loading'])\n",
    "])\n",
    "clf_lr_2 = make_pipeline(ct, LogisticRegression(solver='lbfgs'))\n",
    "result = eval_model(clf_lr_2)\n",
    "np.mean(result['test_score']), np.std(result['test_score']), np.mean(result['train_score'])"
   ]
  },
  {
   "cell_type": "code",
   "execution_count": null,
   "id": "75817f4e",
   "metadata": {},
   "outputs": [],
   "source": [
    "# + np.log (loading)"
   ]
  },
  {
   "cell_type": "code",
   "execution_count": null,
   "id": "f896461e",
   "metadata": {},
   "outputs": [],
   "source": [
    "# + feature\n",
    "\n",
    "from sklearn.discriminant_analysis import LinearDiscriminantAnalysis\n",
    "lda = LinearDiscriminantAnalysis()\n",
    "X_lda = ['measurement_{}'.format(i) for i in range(18)]\n",
    "lda.fit(df_prob3_train[X_lda], df_prob3_train['failure'])"
   ]
  },
  {
   "cell_type": "code",
   "execution_count": null,
   "id": "35ba171c",
   "metadata": {},
   "outputs": [],
   "source": []
  },
  {
   "cell_type": "code",
   "execution_count": null,
   "id": "d3afed66",
   "metadata": {},
   "outputs": [],
   "source": [
    "# + model \n",
    "from sklearn.ensemble import RandomForestClassifier\n",
    "{'max_depth': 7, 'min_samples_split': 512, 'n_estimators': 15}"
   ]
  }
 ],
 "metadata": {
  "kernelspec": {
   "display_name": "Python 3 (ipykernel)",
   "language": "python",
   "name": "python3"
  },
  "language_info": {
   "codemirror_mode": {
    "name": "ipython",
    "version": 3
   },
   "file_extension": ".py",
   "mimetype": "text/x-python",
   "name": "python",
   "nbconvert_exporter": "python",
   "pygments_lexer": "ipython3",
   "version": "3.7.4"
  }
 },
 "nbformat": 4,
 "nbformat_minor": 5
}

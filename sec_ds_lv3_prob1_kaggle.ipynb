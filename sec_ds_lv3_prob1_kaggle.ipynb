{
 "cells": [
  {
   "cell_type": "markdown",
   "id": "765c0422",
   "metadata": {},
   "source": [
    "# 문제 6\n",
    "\n",
    "[Kaggle 형] train_prob.csv로 문제 failure 예측하는 모델을 만들고, \n",
    "\n",
    "test_prob.csv에 대한 failure가 1일 확률 예측하여 다음과 같은 형식의 answer6.csv를 만들어라. \n",
    "\n",
    "측정 지표는 AUC(area under of ROC curve)이다. id 는 테스트 케이스의 id 이고, failure에는 failure가 1이 될 확률이다.\n",
    "\n",
    "id,failure\n",
    "\n",
    "16115, 0.1\n",
    "\n",
    "16116, 0.2\n",
    "\n",
    "\n",
    "**강사: 멀티캠퍼스 강선구(sunku0316.kang@multicampus.com, sun9sun9@gmail.com)**"
   ]
  },
  {
   "cell_type": "code",
   "execution_count": 1,
   "id": "a84a412b",
   "metadata": {},
   "outputs": [
    {
     "name": "stdout",
     "output_type": "stream",
     "text": [
      "3.7.4 (tags/v3.7.4:e09359112e, Jul  8 2019, 20:34:20) [MSC v.1916 64 bit (AMD64)]\n",
      "pandas 0.25.1\n",
      "numpy 1.18.5\n",
      "sklearn 0.21.3\n",
      "scipy 1.5.2\n",
      "mlxtend 0.15.0.0\n",
      "statsmodels 0.11.1\n",
      "xgboost 0.80\n"
     ]
    }
   ],
   "source": [
    "# 실행 환경 확인\n",
    "\n",
    "import pandas as pd\n",
    "import numpy as np\n",
    "import sklearn\n",
    "import scipy\n",
    "import statsmodels\n",
    "import mlxtend\n",
    "import sys\n",
    "import xgboost as xgb\n",
    "\n",
    "print(sys.version)\n",
    "for i in [pd, np, sklearn, scipy, mlxtend, statsmodels, xgb]:\n",
    "    print(i.__name__, i.__version__)"
   ]
  },
  {
   "cell_type": "code",
   "execution_count": 2,
   "id": "bb45d224",
   "metadata": {},
   "outputs": [],
   "source": [
    "df_train = pd.read_csv('train_prob.csv', index_col=['id'])\n",
    "df_test = pd.read_csv('test_prob.csv', index_col=['id'])\n",
    "df_ans = pd.read_csv('test_prob_ans.csv', index_col='id')"
   ]
  },
  {
   "cell_type": "code",
   "execution_count": 3,
   "id": "3e867137",
   "metadata": {},
   "outputs": [],
   "source": [
    "df_train = df_train.assign(\n",
    "    na_1 = lambda x: x['measurement_3'].isna(),\n",
    "    na_2 = lambda x: x['measurement_5'].isna()\n",
    ")\n",
    "df_test = df_test.assign(\n",
    "    na_1 = lambda x: x['measurement_3'].isna(),\n",
    "    na_2 = lambda x: x['measurement_5'].isna()\n",
    ")"
   ]
  },
  {
   "cell_type": "code",
   "execution_count": 4,
   "id": "987ee80c",
   "metadata": {},
   "outputs": [
    {
     "data": {
      "text/plain": [
       "C    5765\n",
       "E    5343\n",
       "B    5250\n",
       "A    5100\n",
       "Name: product_code, dtype: int64"
      ]
     },
     "execution_count": 4,
     "metadata": {},
     "output_type": "execute_result"
    }
   ],
   "source": [
    "df_train['product_code'].value_counts()"
   ]
  },
  {
   "cell_type": "code",
   "execution_count": 5,
   "id": "17b1dafe",
   "metadata": {},
   "outputs": [
    {
     "data": {
      "text/plain": [
       "D    5112\n",
       "Name: product_code, dtype: int64"
      ]
     },
     "execution_count": 5,
     "metadata": {},
     "output_type": "execute_result"
    }
   ],
   "source": [
    "df_test['product_code'].value_counts()"
   ]
  },
  {
   "cell_type": "code",
   "execution_count": 6,
   "id": "bda330ff",
   "metadata": {},
   "outputs": [],
   "source": [
    "# 방법 2: product_code 별로 IterativeImputer를 통한 결측처리를 하고 바로 적용합니다.\n",
    "from sklearn.experimental import enable_iterative_imputer# 구문을 사용하여 실험 단계인 모듈을 활성화하고, \n",
    "from sklearn.impute import IterativeImputer\n",
    "from sklearn.linear_model import LinearRegression\n",
    "\n",
    "X_imp = ['measurement_{}'.format(i) for i in range(3, 10)] + ['measurement_17']\n",
    "\n",
    "imp = IterativeImputer(\n",
    "    estimator = LinearRegression(),\n",
    "    random_state=123\n",
    ")\n",
    "\n",
    "df_train[X_imp] =  df_train.groupby('product_code')[X_imp].apply(\n",
    "    lambda x: pd.DataFrame(imp.fit_transform(x), index=x.index, columns=x.columns)\n",
    ")\n",
    "\n",
    "df_test[X_imp] =  df_test.groupby('product_code')[X_imp].apply(\n",
    "    lambda x: pd.DataFrame(imp.fit_transform(x), index=x.index, columns=x.columns)\n",
    ")"
   ]
  },
  {
   "cell_type": "code",
   "execution_count": 7,
   "id": "f9b2c285",
   "metadata": {},
   "outputs": [],
   "source": [
    "# 방법 1로 구현합니다. (참고)\n",
    "\n",
    "from sklearn.experimental import enable_iterative_imputer# 구문을 사용하여 실험 단계인 모듈을 활성화하고, \n",
    "from sklearn.impute import IterativeImputer\n",
    "from sklearn.linear_model import LinearRegression\n",
    "from sklearn.metrics import r2_score\n",
    "\n",
    "X_imp = ['measurement_{}'.format(i) for i in range(3, 10)] + ['measurement_17']\n",
    "# train에 등장하지 않은 수준이 있습니다, test를 포함하여 결측처리 모델을 만듭니다.\n",
    "s_imp = pd.concat([\n",
    "        df_train[X_imp + ['product_code']],\n",
    "        df_test[X_imp + ['product_code']]\n",
    "], axis=0).groupby('product_code')\\\n",
    ".apply(\n",
    "    lambda x: IterativeImputer(estimator=LinearRegression(),random_state=123).fit(x[X_imp])\n",
    ")\n",
    "# train에 적용합니다.\n",
    "df_train[X_imp] = df_train[X_imp + ['product_code']]\\\n",
    "            .groupby('product_code')\\\n",
    "            .apply(\n",
    "                lambda x: pd.DataFrame(s_imp.loc[x.name].transform(x[X_imp]), index=x.index, columns=X_imp)\n",
    "            )\n",
    "# test에 적용합니다.\n",
    "df_test[X_imp] = df_test[X_imp + ['product_code']]\\\n",
    "            .groupby('product_code')\\\n",
    "            .apply(\n",
    "                lambda x: pd.DataFrame(s_imp.loc[x.name].transform(x[X_imp]), index=x.index, columns=X_imp)\n",
    "            )"
   ]
  },
  {
   "cell_type": "code",
   "execution_count": 8,
   "id": "ae8dc722",
   "metadata": {},
   "outputs": [],
   "source": [
    "# 방법 1: groupby ~ transform\n",
    "# Transform을 통해 수준별 평균으로 1:1 변환된 값으로 구성된 DataFrame을 받아서, \n",
    "# 각각의 요소별로 결측이면 해당값으로 치환되게 구성합니다.\n",
    "X_mean = ['measurement_{}'.format(i) for i in range(10, 17)]\n",
    "df_train[X_mean] = df_train.groupby('product_code')[X_mean]\\\n",
    "        .transform(lambda x: x.fillna(x.mean()))\n",
    "\n",
    "df_test[X_mean] = df_test.groupby('product_code')[X_mean]\\\n",
    "        .transform(lambda x: x.fillna(x.mean()))"
   ]
  },
  {
   "cell_type": "code",
   "execution_count": 9,
   "id": "d2187bfd",
   "metadata": {},
   "outputs": [],
   "source": [
    "# 합쳐서 구해봅니다. (참고)\n",
    "X_mean = ['measurement_{}'.format(i) for i in range(10, 17)]\n",
    "# 역시 train에 등장하지 않은 수준을 처리하기 위해 합치니다.\n",
    "df_mean = pd.concat([\n",
    "            df_train[['product_code'] + X_mean],\n",
    "            df_test[['product_code'] + X_mean]\n",
    "        ]).groupby('product_code')[X_mean].agg('mean')\n",
    "\n",
    "df_train[X_mean] = df_train.groupby('product_code')[X_mean]\\\n",
    "            .apply(lambda x: pd.DataFrame(x.fillna(df_mean.loc[x.name]), index=x.index, columns=x.columns))\n",
    "df_test[X_mean] = df_test.groupby('product_code')[X_mean]\\\n",
    "            .apply(lambda x: pd.DataFrame(x.fillna(df_mean.loc[x.name]), index=x.index, columns=x.columns))"
   ]
  },
  {
   "cell_type": "code",
   "execution_count": 10,
   "id": "d806ec2a",
   "metadata": {},
   "outputs": [],
   "source": [
    "df_train['loading'] = df_train['loading'].fillna(df_train['loading'].mean())\n",
    "df_test['loading'] = df_test['loading'].fillna(df_test['loading'].mean())"
   ]
  },
  {
   "cell_type": "code",
   "execution_count": 11,
   "id": "74998036",
   "metadata": {},
   "outputs": [
    {
     "data": {
      "text/plain": [
       "(0, 0)"
      ]
     },
     "execution_count": 11,
     "metadata": {},
     "output_type": "execute_result"
    }
   ],
   "source": [
    "df_train.isna().sum().sum(), df_test.isna().sum().sum()"
   ]
  },
  {
   "cell_type": "markdown",
   "id": "301db49b",
   "metadata": {},
   "source": [
    "# Kaggle형 풀이 단계\n",
    "\n",
    "Step 1: 검증 방법을 정하고, 검증 루틴을 만듭니다.\n",
    "\n",
    "Step 2: Baseline 모델을 만듭니다\n",
    "\n",
    "Step 3: 모델 선택 루틴을 만듭니다.\n",
    "\n",
    "Step 4: 모델 개선 작업을 합니다."
   ]
  },
  {
   "cell_type": "code",
   "execution_count": 12,
   "id": "04fcfe00",
   "metadata": {},
   "outputs": [],
   "source": [
    "# 공통 사용 요소 입니다.\n",
    "\n",
    "from sklearn.compose import ColumnTransformer\n",
    "from sklearn.pipeline import make_pipeline\n",
    "from sklearn.model_selection import cross_validate, GroupKFold\n",
    "from sklearn.preprocessing import StandardScaler\n",
    "from sklearn.metrics import roc_auc_score\n",
    "\n",
    "X_all = [i for i in df_train.columns if i != 'failure']\n",
    "gcv = GroupKFold(4)\n",
    "\n",
    "def eval_model(model):\n",
    "    return cross_validate(\n",
    "        model, df_train[X_all], df_train['failure'], cv = gcv, groups=df_train['product_code'], \n",
    "        scoring='roc_auc', return_train_score=True\n",
    "    )\n",
    "\n",
    "def choose_model(model):\n",
    "    model.fit(df_train[X_all], df_train['failure'])\n",
    "    prd = model.predict_proba(df_test[X_all])[:, 1]\n",
    "    pd.DataFrame({\n",
    "        'id': df_test.index.values,\n",
    "        'failure': prd\n",
    "    }).to_csv('answer6.csv', index=None)\n",
    "    return prd"
   ]
  },
  {
   "cell_type": "code",
   "execution_count": 13,
   "id": "2e363b13",
   "metadata": {},
   "outputs": [
    {
     "name": "stdout",
     "output_type": "stream",
     "text": [
      "['A' 'B' 'E'] ['C']\n",
      "['A' 'B' 'C'] ['E']\n",
      "['A' 'C' 'E'] ['B']\n",
      "['B' 'C' 'E'] ['A']\n"
     ]
    }
   ],
   "source": [
    "# GroupKFold의 동작을 보여드립니다: 검증셋은 검증 학습셋에 등장하지 않은 group(product_code)이 나옵니다\n",
    "for train_idx, test_idx in gcv.split(df_train[X_all], df_train['failure'], groups=df_train['product_code']):\n",
    "    print(df_train.iloc[train_idx]['product_code'].unique(), df_train.iloc[test_idx]['product_code'].unique())"
   ]
  },
  {
   "cell_type": "code",
   "execution_count": 14,
   "id": "e2d5625d",
   "metadata": {},
   "outputs": [
    {
     "data": {
      "text/plain": [
       "(0.5893698519267131, 0.0037908863862941063, 0.5919059643763757)"
      ]
     },
     "execution_count": 14,
     "metadata": {},
     "output_type": "execute_result"
    }
   ],
   "source": [
    "# Baseline: LogisticRegression + feature selection\n",
    "from sklearn.linear_model import LogisticRegression\n",
    "\n",
    "ct = ColumnTransformer([\n",
    "    ('std', StandardScaler(), ['loading', 'measurement_1', 'measurement_4', 'measurement_14', 'measurement_17']),\n",
    "    ('pt', 'passthrough', ['na_1'])\n",
    "])\n",
    "clf_lr = make_pipeline(ct, LogisticRegression(solver='lbfgs'))\n",
    "result = eval_model(clf_lr)\n",
    "np.mean(result['test_score']), np.std(result['test_score']), np.mean(result['train_score'])"
   ]
  },
  {
   "cell_type": "code",
   "execution_count": 15,
   "id": "bd4d1cb0",
   "metadata": {},
   "outputs": [
    {
     "data": {
      "text/plain": [
       "0.5883705035971223"
      ]
     },
     "execution_count": 15,
     "metadata": {},
     "output_type": "execute_result"
    }
   ],
   "source": [
    "# 모델을 선택합니다.\n",
    "prd = choose_model(clf_lr)\n",
    "# 자가 채점 합니다.\n",
    "roc_auc_score(df_ans['failure'], prd)"
   ]
  },
  {
   "cell_type": "code",
   "execution_count": 16,
   "id": "993ab783",
   "metadata": {},
   "outputs": [
    {
     "data": {
      "text/plain": [
       "(0.5885708721211668, 0.002936880606326784, 0.5916331911156281)"
      ]
     },
     "execution_count": 16,
     "metadata": {},
     "output_type": "execute_result"
    }
   ],
   "source": [
    "# Basline + feature PCA\n",
    "from sklearn.decomposition import PCA\n",
    "\n",
    "ct = ColumnTransformer([\n",
    "    ('std_pca', make_pipeline(StandardScaler(), PCA(n_components=7)), ['measurement_{}'.format(i) for i in range(18)]),\n",
    "    ('std', StandardScaler(), ['loading']),\n",
    "    ('pt', 'passthrough', ['na_1'])\n",
    "])\n",
    "clf_lr_2 = make_pipeline(ct, LogisticRegression(solver='lbfgs'))\n",
    "result = eval_model(clf_lr_2)\n",
    "np.mean(result['test_score']), np.std(result['test_score']), np.mean(result['train_score'])"
   ]
  },
  {
   "cell_type": "code",
   "execution_count": 17,
   "id": "971ca43c",
   "metadata": {},
   "outputs": [
    {
     "data": {
      "text/plain": [
       "(0.5893511045085978, 0.0038853447385856898, 0.5918119259522319)"
      ]
     },
     "execution_count": 17,
     "metadata": {},
     "output_type": "execute_result"
    }
   ],
   "source": [
    "# Basline + np.log (loading)\n",
    "from sklearn.preprocessing import FunctionTransformer\n",
    "\n",
    "ct = ColumnTransformer([\n",
    "    ('std', StandardScaler(), ['measurement_1', 'measurement_4', 'measurement_14', 'measurement_17']),\n",
    "    ('log_std', make_pipeline(FunctionTransformer(func=np.log, validate=False), StandardScaler()), ['loading']),\n",
    "    ('pt', 'passthrough', ['na_1'])\n",
    "])\n",
    "clf_lr_3 = make_pipeline(ct, LogisticRegression(solver='lbfgs'))\n",
    "result = eval_model(clf_lr_3)\n",
    "np.mean(result['test_score']), np.std(result['test_score']), np.mean(result['train_score'])"
   ]
  },
  {
   "cell_type": "code",
   "execution_count": 18,
   "id": "32ca212a",
   "metadata": {},
   "outputs": [
    {
     "data": {
      "text/plain": [
       "(0.5870176835777384, 0.001962859562434625, 0.6143993333495047)"
      ]
     },
     "execution_count": 18,
     "metadata": {},
     "output_type": "execute_result"
    }
   ],
   "source": [
    "# RF: RandomForestClassifier + LinearDiscriminantAnalysis\n",
    "from sklearn.discriminant_analysis import LinearDiscriminantAnalysis\n",
    "\n",
    "from sklearn.ensemble import RandomForestClassifier\n",
    "ct = ColumnTransformer([\n",
    "    ('std_lda', make_pipeline(StandardScaler(), LinearDiscriminantAnalysis()), ['measurement_{}'.format(i) for i in range(18)]),\n",
    "    ('pt', 'passthrough', ['loading', 'na_1', 'na_2']),# + ['measurement_{}'.format(i) for i in range(18)])\n",
    "])\n",
    "clf_rf = make_pipeline(ct, RandomForestClassifier(\n",
    "    n_estimators=150, max_depth=5, min_samples_split= 512, random_state=123\n",
    "))\n",
    "result = eval_model(clf_rf)\n",
    "np.mean(result['test_score']), np.std(result['test_score']), np.mean(result['train_score'])"
   ]
  },
  {
   "cell_type": "code",
   "execution_count": 19,
   "id": "558bbdaa",
   "metadata": {},
   "outputs": [
    {
     "data": {
      "text/plain": [
       "(0.5859260509703783, 0.004071350389365754, 0.6037708850584805)"
      ]
     },
     "execution_count": 19,
     "metadata": {},
     "output_type": "execute_result"
    }
   ],
   "source": [
    "# XGB: XGBoost\n",
    "import xgboost as xgb\n",
    "ct = ColumnTransformer([\n",
    "    ('pt', 'passthrough', ['loading', 'na_1', 'na_2'] + ['measurement_{}'.format(i) for i in range(18)])\n",
    "])\n",
    "clf_xgb = xgb.XGBClassifier(\n",
    "    learning_rate=0.01, n_estimators=200, subsample=0.25, colsample_bytree=0.9, max_depth=2, random_state=123\n",
    ")\n",
    "clf_xgb = make_pipeline(ct, clf_xgb)\n",
    "result = eval_model(clf_xgb)\n",
    "np.mean(result['test_score']), np.std(result['test_score']), np.mean(result['train_score'])"
   ]
  },
  {
   "cell_type": "code",
   "execution_count": 20,
   "id": "fcff6b51",
   "metadata": {},
   "outputs": [
    {
     "data": {
      "text/plain": [
       "({'fit_time': array([1.89585948, 1.85885024, 1.88291907, 1.82760525]),\n",
       "  'score_time': array([0.01562428, 0.01562381, 0.01561451, 0.01562262]),\n",
       "  'test_score': array([0.58331404, 0.5815396 , 0.58292017, 0.59404156]),\n",
       "  'train_score': array([0.59819038, 0.59880856, 0.59920214, 0.5964019 ])},\n",
       " 0.5854538391204598,\n",
       " 0.5981507433353104)"
      ]
     },
     "execution_count": 20,
     "metadata": {},
     "output_type": "execute_result"
    }
   ],
   "source": [
    "# GB: GradientBoosting\n",
    "from sklearn.ensemble import GradientBoostingClassifier\n",
    "X_gb = ['loading', 'na_1', 'na_2'] + ['measurement_{}'.format(i) for i in range(18)]\n",
    "ct = ColumnTransformer([\n",
    "    ('pt', 'passthrough', X_gb)\n",
    "])\n",
    "clf_gb = make_pipeline(ct, GradientBoostingClassifier(\n",
    "    n_estimators=200, max_depth=2, learning_rate=0.007, random_state=123\n",
    "))\n",
    "result = eval_model(clf_gb)\n",
    "result,  np.mean(result['test_score']), np.mean(result['train_score'])"
   ]
  },
  {
   "cell_type": "code",
   "execution_count": 21,
   "id": "128458b0",
   "metadata": {},
   "outputs": [
    {
     "data": {
      "text/plain": [
       "({'fit_time': array([2.85138106, 2.85726476, 2.85609913, 2.82746625]),\n",
       "  'score_time': array([0.07810593, 0.07808304, 0.07801247, 0.07810545]),\n",
       "  'test_score': array([0.58914805, 0.58721561, 0.58907306, 0.59560419]),\n",
       "  'train_score': array([0.60176033, 0.60239064, 0.60134444, 0.59818017])},\n",
       " 0.5902602263616302,\n",
       " 0.6009188951819)"
      ]
     },
     "execution_count": 21,
     "metadata": {},
     "output_type": "execute_result"
    }
   ],
   "source": [
    "# Voting을 합니다.\n",
    "from sklearn.ensemble import VotingClassifier\n",
    "\n",
    "clf_vt = VotingClassifier([\n",
    "    #('baseline', clf_lr_3),\n",
    "    ('lr_2', clf_lr_2),\n",
    "    ('lr_3', clf_lr_3),\n",
    "    ('rf', clf_rf),\n",
    "    #('xgb', clf_xgb),\n",
    "    ('gb', clf_gb)\n",
    "], voting='soft')\n",
    "result = eval_model(clf_vt)\n",
    "result,  np.mean(result['test_score']), np.mean(result['train_score'])"
   ]
  },
  {
   "cell_type": "code",
   "execution_count": 22,
   "id": "b06a23df",
   "metadata": {},
   "outputs": [
    {
     "data": {
      "text/plain": [
       "0.5922951888489209"
      ]
     },
     "execution_count": 22,
     "metadata": {},
     "output_type": "execute_result"
    }
   ],
   "source": [
    "# 모델을 선택합니다.\n",
    "prd = choose_model(clf_vt)\n",
    "# 자가 채점 합니다.\n",
    "roc_auc_score(df_ans['failure'], prd)"
   ]
  },
  {
   "cell_type": "code",
   "execution_count": null,
   "id": "42ff1fa9",
   "metadata": {},
   "outputs": [],
   "source": []
  }
 ],
 "metadata": {
  "kernelspec": {
   "display_name": "Python 3 (ipykernel)",
   "language": "python",
   "name": "python3"
  },
  "language_info": {
   "codemirror_mode": {
    "name": "ipython",
    "version": 3
   },
   "file_extension": ".py",
   "mimetype": "text/x-python",
   "name": "python",
   "nbconvert_exporter": "python",
   "pygments_lexer": "ipython3",
   "version": "3.7.4"
  }
 },
 "nbformat": 4,
 "nbformat_minor": 5
}
